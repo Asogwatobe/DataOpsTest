{
 "cells": [
  {
   "cell_type": "code",
   "execution_count": null,
   "id": "d4be4901",
   "metadata": {},
   "outputs": [],
   "source": [
    "#ONE OFF INSTALL\n",
    "#%pip install palmerpenguins"
   ]
  },
  {
   "cell_type": "code",
   "execution_count": 1,
   "id": "6e73d33a",
   "metadata": {},
   "outputs": [
    {
     "ename": "ModuleNotFoundError",
     "evalue": "No module named 'palmerpenguins'",
     "output_type": "error",
     "traceback": [
      "\u001b[1;31m---------------------------------------------------------------------------\u001b[0m",
      "\u001b[1;31mModuleNotFoundError\u001b[0m                       Traceback (most recent call last)",
      "\u001b[1;32m<ipython-input-1-2f70328a8942>\u001b[0m in \u001b[0;36m<module>\u001b[1;34m\u001b[0m\n\u001b[1;32m----> 1\u001b[1;33m \u001b[1;32mfrom\u001b[0m \u001b[0mpalmerpenguins\u001b[0m \u001b[1;32mimport\u001b[0m \u001b[0mload_penguins\u001b[0m\u001b[1;33m\u001b[0m\u001b[1;33m\u001b[0m\u001b[0m\n\u001b[0m\u001b[0;32m      2\u001b[0m \u001b[1;33m\u001b[0m\u001b[0m\n\u001b[0;32m      3\u001b[0m \u001b[0mpenguins\u001b[0m \u001b[1;33m=\u001b[0m \u001b[0mload_penguins\u001b[0m\u001b[1;33m(\u001b[0m\u001b[1;33m)\u001b[0m \u001b[1;31m# a bit like \"read_csv\" to import our data\u001b[0m\u001b[1;33m\u001b[0m\u001b[1;33m\u001b[0m\u001b[0m\n",
      "\u001b[1;31mModuleNotFoundError\u001b[0m: No module named 'palmerpenguins'"
     ]
    }
   ],
   "source": [
    "from palmerpenguins import load_penguins\n",
    "\n",
    "penguins = load_penguins() # a bit like \"read_csv\" to import our data"
   ]
  },
  {
   "cell_type": "code",
   "execution_count": null,
   "id": "49ec7f47",
   "metadata": {},
   "outputs": [],
   "source": [
    "penguins.head()"
   ]
  },
  {
   "cell_type": "code",
   "execution_count": null,
   "id": "43564f5c",
   "metadata": {},
   "outputs": [],
   "source": [
    "# Exercise -\n",
    "# a) have a look at the stats on the penguins data\n",
    "# b) plot histograms\n",
    "# c) plot boxplots"
   ]
  },
  {
   "cell_type": "code",
   "execution_count": null,
   "id": "44b2f716",
   "metadata": {},
   "outputs": [],
   "source": [
    "penguins.dtypes"
   ]
  },
  {
   "cell_type": "code",
   "execution_count": null,
   "id": "f76cdacd",
   "metadata": {},
   "outputs": [],
   "source": [
    "penguins.describe() # basic stats"
   ]
  },
  {
   "cell_type": "code",
   "execution_count": null,
   "id": "cce7744d",
   "metadata": {},
   "outputs": [],
   "source": [
    "penguins.shape # rows and columns"
   ]
  },
  {
   "cell_type": "code",
   "execution_count": null,
   "id": "4b3be849",
   "metadata": {},
   "outputs": [],
   "source": [
    "penguins.hist()"
   ]
  },
  {
   "cell_type": "code",
   "execution_count": null,
   "id": "02f9140e",
   "metadata": {},
   "outputs": [],
   "source": [
    "penguins.boxplot()"
   ]
  },
  {
   "cell_type": "markdown",
   "id": "4bf55b79",
   "metadata": {},
   "source": [
    "above plots arent ideal, lets do some tidy up"
   ]
  },
  {
   "cell_type": "code",
   "execution_count": null,
   "id": "490df8af",
   "metadata": {},
   "outputs": [],
   "source": [
    "penguins.columns"
   ]
  },
  {
   "cell_type": "code",
   "execution_count": null,
   "id": "3153a09f",
   "metadata": {},
   "outputs": [],
   "source": [
    "# Exercise\n",
    "\n",
    "# a) remove year from our stats summary\n",
    "# b) make histograms bigger and less squashed\n",
    "# c) plot INDIVIDUAL boxplots for the 4 main features"
   ]
  },
  {
   "cell_type": "code",
   "execution_count": null,
   "id": "3182c3c2",
   "metadata": {},
   "outputs": [],
   "source": [
    "# a) remove year from our stats summary\n",
    "penguins[['bill_length_mm', 'bill_depth_mm',\n",
    "          'flipper_length_mm', 'body_mass_g']].describe()"
   ]
  },
  {
   "cell_type": "code",
   "execution_count": null,
   "id": "e93aedfe",
   "metadata": {},
   "outputs": [],
   "source": [
    "# b) make histograms bigger and less squashed\n",
    "penguins_short = penguins[['bill_length_mm', 'bill_depth_mm',\n",
    "          'flipper_length_mm', 'body_mass_g']]\n",
    "penguins_short.hist(figsize = (10,10))"
   ]
  },
  {
   "cell_type": "code",
   "execution_count": null,
   "id": "b6482d64",
   "metadata": {},
   "outputs": [],
   "source": [
    "# c) plot INDIVIDUAL boxplots for the 4 main features\n",
    "penguins.boxplot(column=[\"bill_length_mm\"])"
   ]
  },
  {
   "cell_type": "code",
   "execution_count": null,
   "id": "fe1fee49",
   "metadata": {},
   "outputs": [],
   "source": [
    "penguins.boxplot(column=[\"bill_depth_mm\"])"
   ]
  },
  {
   "cell_type": "code",
   "execution_count": null,
   "id": "38a4c1e4",
   "metadata": {},
   "outputs": [],
   "source": [
    "penguins.boxplot(column=[\"body_mass_g\"])"
   ]
  },
  {
   "cell_type": "code",
   "execution_count": null,
   "id": "e2e039ca",
   "metadata": {},
   "outputs": [],
   "source": [
    "penguins.boxplot(column=[\"flipper_length_mm\"])"
   ]
  },
  {
   "cell_type": "code",
   "execution_count": null,
   "id": "1379d6d1",
   "metadata": {},
   "outputs": [],
   "source": [
    "penguins.boxplot(column=[\"flipper_length_mm\",'bill_length_mm', 'bill_depth_mm','body_mass_g'])"
   ]
  },
  {
   "cell_type": "code",
   "execution_count": null,
   "id": "cfe0a609",
   "metadata": {},
   "outputs": [],
   "source": [
    "# aside - above is the same as\n",
    "penguins_short.boxplot() "
   ]
  },
  {
   "cell_type": "code",
   "execution_count": null,
   "id": "40b20010",
   "metadata": {},
   "outputs": [],
   "source": [
    "penguins_short = penguins[['bill_length_mm', 'bill_depth_mm',\n",
    "          'flipper_length_mm', 'body_mass_g']]\n",
    "penguins_short.boxplot(figsize = (10,10))"
   ]
  },
  {
   "cell_type": "code",
   "execution_count": null,
   "id": "82d01540",
   "metadata": {},
   "outputs": [],
   "source": [
    "import matplotlib.pyplot as plt\n",
    "import seaborn as sns\n",
    "\n",
    "fig, axes = plt.subplots(2, 2)\n",
    "\n",
    "sns.boxplot( data=penguins.flipper_length_mm,  ax=axes[0,0]).set_title(\"flipper_length_mm\")\n",
    "sns.boxplot( data=penguins.bill_length_mm, ax=axes[0,1]).set_title(\"bill_length_mm\")\n",
    "sns.boxplot( data=penguins.bill_depth_mm,  ax=axes[1,0]).set_title(\"bill_depth_mm\")\n",
    "sns.boxplot(data=penguins.body_mass_g,  ax=axes[1,1]).set_title(\".body_mass_g\")\n",
    "sns.boxplot()\n",
    "\n",
    "fig.subplots_adjust(left=0.08, right=0.98, bottom=0.05, top=0.9,\n",
    "                    hspace=0.4, wspace=2)"
   ]
  },
  {
   "cell_type": "code",
   "execution_count": null,
   "id": "ad8f9dfc",
   "metadata": {},
   "outputs": [],
   "source": [
    "# Exercise - what about missing values ?\n",
    "\n",
    "penguins.isnull().sum()"
   ]
  },
  {
   "cell_type": "markdown",
   "id": "1f9b9571",
   "metadata": {},
   "source": [
    "#### Multi Feature EDA"
   ]
  },
  {
   "cell_type": "code",
   "execution_count": null,
   "id": "08646ada",
   "metadata": {},
   "outputs": [],
   "source": [
    "myCorr = penguins_short.corr(\"pearson\")\n",
    "myCorr"
   ]
  },
  {
   "cell_type": "markdown",
   "id": "03a727d9",
   "metadata": {},
   "source": [
    "high correlation between flipper_length_mm and body_mass_g"
   ]
  },
  {
   "cell_type": "code",
   "execution_count": null,
   "id": "cd4c5ec1",
   "metadata": {},
   "outputs": [],
   "source": [
    "# a nicer view of a correlation matirx\n",
    "# we use seaborn - nicer visuals than inbuilt python charts and matplot\n",
    "\n",
    "import seaborn as sns\n",
    "\n",
    "sns.heatmap(myCorr,\n",
    "           cmap = \"rocket\",\n",
    "           linewidths = 2,\n",
    "           linecolor = \"black\",\n",
    "           annot = True)"
   ]
  },
  {
   "cell_type": "code",
   "execution_count": null,
   "id": "a607bfc0",
   "metadata": {},
   "outputs": [],
   "source": [
    "# Exercise - \n",
    "# a) change the colour map on the seaborn correlation plot\n",
    "# b) display a combined scatterplot and distribution plot"
   ]
  },
  {
   "cell_type": "code",
   "execution_count": null,
   "id": "fb782018",
   "metadata": {},
   "outputs": [],
   "source": [
    "sns.heatmap(myCorr,\n",
    "           cmap = \"YlGnBu\",\n",
    "           linewidths = 2,\n",
    "           linecolor = \"black\",\n",
    "           annot = True)"
   ]
  },
  {
   "cell_type": "code",
   "execution_count": null,
   "id": "2e2281a4",
   "metadata": {},
   "outputs": [],
   "source": [
    "penguins2 = penguins.loc[:,[\"species\", \"flipper_length_mm\",'bill_length_mm', 'bill_depth_mm','body_mass_g']]\n",
    "sns.pairplot(penguins2, hue=\"species\")"
   ]
  }
 ],
 "metadata": {
  "kernelspec": {
   "display_name": "Python 3",
   "language": "python",
   "name": "python3"
  },
  "language_info": {
   "codemirror_mode": {
    "name": "ipython",
    "version": 3
   },
   "file_extension": ".py",
   "mimetype": "text/x-python",
   "name": "python",
   "nbconvert_exporter": "python",
   "pygments_lexer": "ipython3",
   "version": "3.8.8"
  }
 },
 "nbformat": 4,
 "nbformat_minor": 5
}
