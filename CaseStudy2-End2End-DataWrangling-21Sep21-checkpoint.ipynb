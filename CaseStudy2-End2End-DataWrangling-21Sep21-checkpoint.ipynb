{
 "cells": [
  {
   "cell_type": "code",
   "execution_count": 1,
   "id": "194e6a95",
   "metadata": {},
   "outputs": [],
   "source": [
    "# Exercise\n",
    "\n",
    "# a) import the csv just sent\n",
    "# b) have a  look at the first few rows\n",
    "# c) report basic stats"
   ]
  },
  {
   "cell_type": "code",
   "execution_count": 105,
   "id": "303e56ba",
   "metadata": {},
   "outputs": [
    {
     "data": {
      "text/html": [
       "<div>\n",
       "<style scoped>\n",
       "    .dataframe tbody tr th:only-of-type {\n",
       "        vertical-align: middle;\n",
       "    }\n",
       "\n",
       "    .dataframe tbody tr th {\n",
       "        vertical-align: top;\n",
       "    }\n",
       "\n",
       "    .dataframe thead th {\n",
       "        text-align: right;\n",
       "    }\n",
       "</style>\n",
       "<table border=\"1\" class=\"dataframe\">\n",
       "  <thead>\n",
       "    <tr style=\"text-align: right;\">\n",
       "      <th></th>\n",
       "      <th>patient_id</th>\n",
       "      <th>clump_thickness</th>\n",
       "      <th>cell_size_uniformity</th>\n",
       "      <th>cell_shape_uniformity</th>\n",
       "      <th>marginal_adhesion</th>\n",
       "      <th>single_ep_cell_size</th>\n",
       "      <th>bare_nuclei</th>\n",
       "      <th>bland_chromatin</th>\n",
       "      <th>normal_nucleoli</th>\n",
       "      <th>mitoses</th>\n",
       "      <th>class</th>\n",
       "      <th>doctor_name</th>\n",
       "    </tr>\n",
       "  </thead>\n",
       "  <tbody>\n",
       "    <tr>\n",
       "      <th>0</th>\n",
       "      <td>1000025</td>\n",
       "      <td>5.0</td>\n",
       "      <td>1.0</td>\n",
       "      <td>1</td>\n",
       "      <td>1</td>\n",
       "      <td>2</td>\n",
       "      <td>1</td>\n",
       "      <td>3.0</td>\n",
       "      <td>1.0</td>\n",
       "      <td>1</td>\n",
       "      <td>benign</td>\n",
       "      <td>Dr. Doe</td>\n",
       "    </tr>\n",
       "    <tr>\n",
       "      <th>1</th>\n",
       "      <td>1002945</td>\n",
       "      <td>5.0</td>\n",
       "      <td>4.0</td>\n",
       "      <td>4</td>\n",
       "      <td>5</td>\n",
       "      <td>7</td>\n",
       "      <td>10</td>\n",
       "      <td>3.0</td>\n",
       "      <td>2.0</td>\n",
       "      <td>1</td>\n",
       "      <td>benign</td>\n",
       "      <td>Dr. Smith</td>\n",
       "    </tr>\n",
       "    <tr>\n",
       "      <th>2</th>\n",
       "      <td>1015425</td>\n",
       "      <td>3.0</td>\n",
       "      <td>1.0</td>\n",
       "      <td>1</td>\n",
       "      <td>1</td>\n",
       "      <td>2</td>\n",
       "      <td>2</td>\n",
       "      <td>3.0</td>\n",
       "      <td>1.0</td>\n",
       "      <td>1</td>\n",
       "      <td>benign</td>\n",
       "      <td>Dr. Lee</td>\n",
       "    </tr>\n",
       "    <tr>\n",
       "      <th>3</th>\n",
       "      <td>1016277</td>\n",
       "      <td>6.0</td>\n",
       "      <td>8.0</td>\n",
       "      <td>8</td>\n",
       "      <td>1</td>\n",
       "      <td>3</td>\n",
       "      <td>4</td>\n",
       "      <td>3.0</td>\n",
       "      <td>7.0</td>\n",
       "      <td>1</td>\n",
       "      <td>benign</td>\n",
       "      <td>Dr. Smith</td>\n",
       "    </tr>\n",
       "    <tr>\n",
       "      <th>4</th>\n",
       "      <td>1017023</td>\n",
       "      <td>4.0</td>\n",
       "      <td>1.0</td>\n",
       "      <td>1</td>\n",
       "      <td>3</td>\n",
       "      <td>2</td>\n",
       "      <td>1</td>\n",
       "      <td>3.0</td>\n",
       "      <td>1.0</td>\n",
       "      <td>1</td>\n",
       "      <td>benign</td>\n",
       "      <td>Dr. Wong</td>\n",
       "    </tr>\n",
       "    <tr>\n",
       "      <th>5</th>\n",
       "      <td>1017122</td>\n",
       "      <td>8.0</td>\n",
       "      <td>10.0</td>\n",
       "      <td>10</td>\n",
       "      <td>8</td>\n",
       "      <td>7</td>\n",
       "      <td>10</td>\n",
       "      <td>9.0</td>\n",
       "      <td>7.0</td>\n",
       "      <td>1</td>\n",
       "      <td>malignant</td>\n",
       "      <td>Dr. Smith</td>\n",
       "    </tr>\n",
       "    <tr>\n",
       "      <th>6</th>\n",
       "      <td>1018099</td>\n",
       "      <td>1.0</td>\n",
       "      <td>NaN</td>\n",
       "      <td>1</td>\n",
       "      <td>1</td>\n",
       "      <td>2</td>\n",
       "      <td>10</td>\n",
       "      <td>3.0</td>\n",
       "      <td>1.0</td>\n",
       "      <td>1</td>\n",
       "      <td>benign</td>\n",
       "      <td>Dr. Doe</td>\n",
       "    </tr>\n",
       "    <tr>\n",
       "      <th>7</th>\n",
       "      <td>1018561</td>\n",
       "      <td>2.0</td>\n",
       "      <td>1.0</td>\n",
       "      <td>2</td>\n",
       "      <td>1</td>\n",
       "      <td>2</td>\n",
       "      <td>1</td>\n",
       "      <td>3.0</td>\n",
       "      <td>1.0</td>\n",
       "      <td>1</td>\n",
       "      <td>benign</td>\n",
       "      <td>Dr. Smith</td>\n",
       "    </tr>\n",
       "    <tr>\n",
       "      <th>8</th>\n",
       "      <td>1033078</td>\n",
       "      <td>2.0</td>\n",
       "      <td>1.0</td>\n",
       "      <td>1</td>\n",
       "      <td>1</td>\n",
       "      <td>2</td>\n",
       "      <td>1</td>\n",
       "      <td>1.0</td>\n",
       "      <td>1.0</td>\n",
       "      <td>5</td>\n",
       "      <td>benign</td>\n",
       "      <td>Dr. Smith</td>\n",
       "    </tr>\n",
       "    <tr>\n",
       "      <th>9</th>\n",
       "      <td>1033078</td>\n",
       "      <td>4.0</td>\n",
       "      <td>2.0</td>\n",
       "      <td>1</td>\n",
       "      <td>1</td>\n",
       "      <td>2</td>\n",
       "      <td>1</td>\n",
       "      <td>2.0</td>\n",
       "      <td>1.0</td>\n",
       "      <td>1</td>\n",
       "      <td>benign</td>\n",
       "      <td>Dr. Doe</td>\n",
       "    </tr>\n",
       "  </tbody>\n",
       "</table>\n",
       "</div>"
      ],
      "text/plain": [
       "   patient_id  clump_thickness  cell_size_uniformity  cell_shape_uniformity  \\\n",
       "0     1000025              5.0                   1.0                      1   \n",
       "1     1002945              5.0                   4.0                      4   \n",
       "2     1015425              3.0                   1.0                      1   \n",
       "3     1016277              6.0                   8.0                      8   \n",
       "4     1017023              4.0                   1.0                      1   \n",
       "5     1017122              8.0                  10.0                     10   \n",
       "6     1018099              1.0                   NaN                      1   \n",
       "7     1018561              2.0                   1.0                      2   \n",
       "8     1033078              2.0                   1.0                      1   \n",
       "9     1033078              4.0                   2.0                      1   \n",
       "\n",
       "   marginal_adhesion  single_ep_cell_size bare_nuclei  bland_chromatin  \\\n",
       "0                  1                    2           1              3.0   \n",
       "1                  5                    7          10              3.0   \n",
       "2                  1                    2           2              3.0   \n",
       "3                  1                    3           4              3.0   \n",
       "4                  3                    2           1              3.0   \n",
       "5                  8                    7          10              9.0   \n",
       "6                  1                    2          10              3.0   \n",
       "7                  1                    2           1              3.0   \n",
       "8                  1                    2           1              1.0   \n",
       "9                  1                    2           1              2.0   \n",
       "\n",
       "   normal_nucleoli  mitoses      class doctor_name  \n",
       "0              1.0        1     benign     Dr. Doe  \n",
       "1              2.0        1     benign   Dr. Smith  \n",
       "2              1.0        1     benign     Dr. Lee  \n",
       "3              7.0        1     benign   Dr. Smith  \n",
       "4              1.0        1     benign    Dr. Wong  \n",
       "5              7.0        1  malignant   Dr. Smith  \n",
       "6              1.0        1     benign     Dr. Doe  \n",
       "7              1.0        1     benign   Dr. Smith  \n",
       "8              1.0        5     benign   Dr. Smith  \n",
       "9              1.0        1     benign     Dr. Doe  "
      ]
     },
     "execution_count": 105,
     "metadata": {},
     "output_type": "execute_result"
    }
   ],
   "source": [
    "import pandas as pd\n",
    "\n",
    "df = pd.read_csv(\"breast_cancer_data.csv\")\n",
    "df.head(10) # checks the first 10 rows"
   ]
  },
  {
   "cell_type": "code",
   "execution_count": 106,
   "id": "78281abb",
   "metadata": {},
   "outputs": [
    {
     "data": {
      "text/html": [
       "<div>\n",
       "<style scoped>\n",
       "    .dataframe tbody tr th:only-of-type {\n",
       "        vertical-align: middle;\n",
       "    }\n",
       "\n",
       "    .dataframe tbody tr th {\n",
       "        vertical-align: top;\n",
       "    }\n",
       "\n",
       "    .dataframe thead th {\n",
       "        text-align: right;\n",
       "    }\n",
       "</style>\n",
       "<table border=\"1\" class=\"dataframe\">\n",
       "  <thead>\n",
       "    <tr style=\"text-align: right;\">\n",
       "      <th></th>\n",
       "      <th>patient_id</th>\n",
       "      <th>clump_thickness</th>\n",
       "      <th>cell_size_uniformity</th>\n",
       "      <th>cell_shape_uniformity</th>\n",
       "      <th>marginal_adhesion</th>\n",
       "      <th>single_ep_cell_size</th>\n",
       "      <th>bland_chromatin</th>\n",
       "      <th>normal_nucleoli</th>\n",
       "      <th>mitoses</th>\n",
       "    </tr>\n",
       "  </thead>\n",
       "  <tbody>\n",
       "    <tr>\n",
       "      <th>count</th>\n",
       "      <td>6.990000e+02</td>\n",
       "      <td>698.000000</td>\n",
       "      <td>698.000000</td>\n",
       "      <td>699.000000</td>\n",
       "      <td>699.000000</td>\n",
       "      <td>699.000000</td>\n",
       "      <td>695.000000</td>\n",
       "      <td>698.000000</td>\n",
       "      <td>699.000000</td>\n",
       "    </tr>\n",
       "    <tr>\n",
       "      <th>mean</th>\n",
       "      <td>1.071704e+06</td>\n",
       "      <td>4.416905</td>\n",
       "      <td>3.137536</td>\n",
       "      <td>3.207439</td>\n",
       "      <td>2.793991</td>\n",
       "      <td>3.216023</td>\n",
       "      <td>3.447482</td>\n",
       "      <td>2.868195</td>\n",
       "      <td>1.589413</td>\n",
       "    </tr>\n",
       "    <tr>\n",
       "      <th>std</th>\n",
       "      <td>6.170957e+05</td>\n",
       "      <td>2.817673</td>\n",
       "      <td>3.052575</td>\n",
       "      <td>2.971913</td>\n",
       "      <td>2.843163</td>\n",
       "      <td>2.214300</td>\n",
       "      <td>2.441191</td>\n",
       "      <td>3.055647</td>\n",
       "      <td>1.715078</td>\n",
       "    </tr>\n",
       "    <tr>\n",
       "      <th>min</th>\n",
       "      <td>6.163400e+04</td>\n",
       "      <td>1.000000</td>\n",
       "      <td>1.000000</td>\n",
       "      <td>1.000000</td>\n",
       "      <td>1.000000</td>\n",
       "      <td>1.000000</td>\n",
       "      <td>1.000000</td>\n",
       "      <td>1.000000</td>\n",
       "      <td>1.000000</td>\n",
       "    </tr>\n",
       "    <tr>\n",
       "      <th>25%</th>\n",
       "      <td>8.706885e+05</td>\n",
       "      <td>2.000000</td>\n",
       "      <td>1.000000</td>\n",
       "      <td>1.000000</td>\n",
       "      <td>1.000000</td>\n",
       "      <td>2.000000</td>\n",
       "      <td>2.000000</td>\n",
       "      <td>1.000000</td>\n",
       "      <td>1.000000</td>\n",
       "    </tr>\n",
       "    <tr>\n",
       "      <th>50%</th>\n",
       "      <td>1.171710e+06</td>\n",
       "      <td>4.000000</td>\n",
       "      <td>1.000000</td>\n",
       "      <td>1.000000</td>\n",
       "      <td>1.000000</td>\n",
       "      <td>2.000000</td>\n",
       "      <td>3.000000</td>\n",
       "      <td>1.000000</td>\n",
       "      <td>1.000000</td>\n",
       "    </tr>\n",
       "    <tr>\n",
       "      <th>75%</th>\n",
       "      <td>1.238298e+06</td>\n",
       "      <td>6.000000</td>\n",
       "      <td>5.000000</td>\n",
       "      <td>5.000000</td>\n",
       "      <td>3.500000</td>\n",
       "      <td>4.000000</td>\n",
       "      <td>5.000000</td>\n",
       "      <td>4.000000</td>\n",
       "      <td>1.000000</td>\n",
       "    </tr>\n",
       "    <tr>\n",
       "      <th>max</th>\n",
       "      <td>1.345435e+07</td>\n",
       "      <td>10.000000</td>\n",
       "      <td>10.000000</td>\n",
       "      <td>10.000000</td>\n",
       "      <td>10.000000</td>\n",
       "      <td>10.000000</td>\n",
       "      <td>10.000000</td>\n",
       "      <td>10.000000</td>\n",
       "      <td>10.000000</td>\n",
       "    </tr>\n",
       "  </tbody>\n",
       "</table>\n",
       "</div>"
      ],
      "text/plain": [
       "         patient_id  clump_thickness  cell_size_uniformity  \\\n",
       "count  6.990000e+02       698.000000            698.000000   \n",
       "mean   1.071704e+06         4.416905              3.137536   \n",
       "std    6.170957e+05         2.817673              3.052575   \n",
       "min    6.163400e+04         1.000000              1.000000   \n",
       "25%    8.706885e+05         2.000000              1.000000   \n",
       "50%    1.171710e+06         4.000000              1.000000   \n",
       "75%    1.238298e+06         6.000000              5.000000   \n",
       "max    1.345435e+07        10.000000             10.000000   \n",
       "\n",
       "       cell_shape_uniformity  marginal_adhesion  single_ep_cell_size  \\\n",
       "count             699.000000         699.000000           699.000000   \n",
       "mean                3.207439           2.793991             3.216023   \n",
       "std                 2.971913           2.843163             2.214300   \n",
       "min                 1.000000           1.000000             1.000000   \n",
       "25%                 1.000000           1.000000             2.000000   \n",
       "50%                 1.000000           1.000000             2.000000   \n",
       "75%                 5.000000           3.500000             4.000000   \n",
       "max                10.000000          10.000000            10.000000   \n",
       "\n",
       "       bland_chromatin  normal_nucleoli     mitoses  \n",
       "count       695.000000       698.000000  699.000000  \n",
       "mean          3.447482         2.868195    1.589413  \n",
       "std           2.441191         3.055647    1.715078  \n",
       "min           1.000000         1.000000    1.000000  \n",
       "25%           2.000000         1.000000    1.000000  \n",
       "50%           3.000000         1.000000    1.000000  \n",
       "75%           5.000000         4.000000    1.000000  \n",
       "max          10.000000        10.000000   10.000000  "
      ]
     },
     "execution_count": 106,
     "metadata": {},
     "output_type": "execute_result"
    }
   ],
   "source": [
    "df.describe() # statistics"
   ]
  },
  {
   "cell_type": "code",
   "execution_count": 107,
   "id": "afba2c6f",
   "metadata": {},
   "outputs": [],
   "source": [
    "# pwd # checks Jupyter working directory"
   ]
  },
  {
   "cell_type": "markdown",
   "id": "0f39ac89",
   "metadata": {},
   "source": [
    "#### Initial Exploratory Data Analysis (EDA)"
   ]
  },
  {
   "cell_type": "code",
   "execution_count": 108,
   "id": "c8fd94a8",
   "metadata": {},
   "outputs": [
    {
     "data": {
      "text/plain": [
       "(699, 12)"
      ]
     },
     "execution_count": 108,
     "metadata": {},
     "output_type": "execute_result"
    }
   ],
   "source": [
    "df.shape #no. of rows, no. of columns"
   ]
  },
  {
   "cell_type": "code",
   "execution_count": 109,
   "id": "4139f403",
   "metadata": {},
   "outputs": [
    {
     "name": "stdout",
     "output_type": "stream",
     "text": [
      "<class 'pandas.core.frame.DataFrame'>\n",
      "RangeIndex: 699 entries, 0 to 698\n",
      "Data columns (total 12 columns):\n",
      " #   Column                 Non-Null Count  Dtype  \n",
      "---  ------                 --------------  -----  \n",
      " 0   patient_id             699 non-null    int64  \n",
      " 1   clump_thickness        698 non-null    float64\n",
      " 2   cell_size_uniformity   698 non-null    float64\n",
      " 3   cell_shape_uniformity  699 non-null    int64  \n",
      " 4   marginal_adhesion      699 non-null    int64  \n",
      " 5   single_ep_cell_size    699 non-null    int64  \n",
      " 6   bare_nuclei            697 non-null    object \n",
      " 7   bland_chromatin        695 non-null    float64\n",
      " 8   normal_nucleoli        698 non-null    float64\n",
      " 9   mitoses                699 non-null    int64  \n",
      " 10  class                  699 non-null    object \n",
      " 11  doctor_name            699 non-null    object \n",
      "dtypes: float64(4), int64(5), object(3)\n",
      "memory usage: 65.7+ KB\n"
     ]
    }
   ],
   "source": [
    "df.info() # check other high level info about our data"
   ]
  },
  {
   "cell_type": "code",
   "execution_count": 110,
   "id": "83803e0b",
   "metadata": {},
   "outputs": [
    {
     "data": {
      "text/plain": [
       "array(['1', '10', '2', '4', '3', '9', '7', '?', '5', '8', '6', nan],\n",
       "      dtype=object)"
      ]
     },
     "execution_count": 110,
     "metadata": {},
     "output_type": "execute_result"
    }
   ],
   "source": [
    "# Exercise - looks like bare_nuclei is being read as text (i.e. \"object\" data type)\n",
    "# why is that ?\n",
    "df.bare_nuclei.unique() # tells us the unique values in a column"
   ]
  },
  {
   "cell_type": "code",
   "execution_count": 111,
   "id": "063d6527",
   "metadata": {},
   "outputs": [
    {
     "data": {
      "text/plain": [
       "doctor_name\n",
       "Dr. Doe      185\n",
       "Dr. Lee      181\n",
       "Dr. Smith    176\n",
       "Dr. Wong     157\n",
       "dtype: int64"
      ]
     },
     "execution_count": 111,
     "metadata": {},
     "output_type": "execute_result"
    }
   ],
   "source": [
    "# create a summary table showing number of patients seen by each doctor\n",
    "df.groupby(by=[\"doctor_name\"]).size()"
   ]
  },
  {
   "cell_type": "code",
   "execution_count": 112,
   "id": "ad3ae296",
   "metadata": {},
   "outputs": [
    {
     "data": {
      "text/plain": [
       "class      doctor_name\n",
       "benign     Dr. Doe        127\n",
       "           Dr. Lee        121\n",
       "           Dr. Smith      102\n",
       "           Dr. Wong       108\n",
       "malignant  Dr. Doe         58\n",
       "           Dr. Lee         60\n",
       "           Dr. Smith       74\n",
       "           Dr. Wong        49\n",
       "dtype: int64"
      ]
     },
     "execution_count": 112,
     "metadata": {},
     "output_type": "execute_result"
    }
   ],
   "source": [
    "# ... if we want a breakdown by doctor and diagnosis\n",
    "df.groupby(by=[\"class\",\"doctor_name\"]).size()"
   ]
  },
  {
   "cell_type": "markdown",
   "id": "9c56acc8",
   "metadata": {},
   "source": [
    "so we can say that most patients have a \"benign\" cell tumour"
   ]
  },
  {
   "cell_type": "code",
   "execution_count": 113,
   "id": "74f2fcda",
   "metadata": {},
   "outputs": [
    {
     "data": {
      "text/plain": [
       "array([[<AxesSubplot:title={'center':'patient_id'}>,\n",
       "        <AxesSubplot:title={'center':'clump_thickness'}>,\n",
       "        <AxesSubplot:title={'center':'cell_size_uniformity'}>],\n",
       "       [<AxesSubplot:title={'center':'cell_shape_uniformity'}>,\n",
       "        <AxesSubplot:title={'center':'marginal_adhesion'}>,\n",
       "        <AxesSubplot:title={'center':'single_ep_cell_size'}>],\n",
       "       [<AxesSubplot:title={'center':'bland_chromatin'}>,\n",
       "        <AxesSubplot:title={'center':'normal_nucleoli'}>,\n",
       "        <AxesSubplot:title={'center':'mitoses'}>]], dtype=object)"
      ]
     },
     "execution_count": 113,
     "metadata": {},
     "output_type": "execute_result"
    },
    {
     "data": {
      "image/png": "[encoded data removed]",
      "text/plain": [
       "<Figure size 432x288 with 9 Axes>"
      ]
     },
     "metadata": {
      "needs_background": "light"
     },
     "output_type": "display_data"
    }
   ],
   "source": [
    "# visual EDA\n",
    "df.hist() # histograms"
   ]
  },
  {
   "cell_type": "code",
   "execution_count": 114,
   "id": "6b1a903d",
   "metadata": {},
   "outputs": [
    {
     "data": {
      "text/plain": [
       "<AxesSubplot:>"
      ]
     },
     "execution_count": 114,
     "metadata": {},
     "output_type": "execute_result"
    },
    {
     "data": {
      "image/png": "[encoded data removed]",
      "text/plain": [
       "<Figure size 432x288 with 1 Axes>"
      ]
     },
     "metadata": {
      "needs_background": "light"
     },
     "output_type": "display_data"
    }
   ],
   "source": [
    "# boxplots\n",
    "df.boxplot()"
   ]
  },
  {
   "cell_type": "code",
   "execution_count": 115,
   "id": "3f7ddd8e",
   "metadata": {},
   "outputs": [
    {
     "data": {
      "text/plain": [
       "<AxesSubplot:>"
      ]
     },
     "execution_count": 115,
     "metadata": {},
     "output_type": "execute_result"
    },
    {
     "data": {
      "image/png": "[encoded data removed]",
      "text/plain": [
       "<Figure size 432x288 with 1 Axes>"
      ]
     },
     "metadata": {
      "needs_background": "light"
     },
     "output_type": "display_data"
    }
   ],
   "source": [
    "#aside \n",
    "df.plot() # lineplots"
   ]
  },
  {
   "cell_type": "code",
   "execution_count": 116,
   "id": "527e7bbf",
   "metadata": {},
   "outputs": [
    {
     "data": {
      "text/plain": [
       "<AxesSubplot:>"
      ]
     },
     "execution_count": 116,
     "metadata": {},
     "output_type": "execute_result"
    },
    {
     "data": {
      "image/png": "[encoded data removed]",
      "text/plain": [
       "<Figure size 432x288 with 1 Axes>"
      ]
     },
     "metadata": {
      "needs_background": "light"
     },
     "output_type": "display_data"
    }
   ],
   "source": [
    "# aside\n",
    "df.drop([\"patient_id\"],axis = 1).plot() # plotting without the patient_id column"
   ]
  },
  {
   "cell_type": "markdown",
   "id": "1b85c4b9",
   "metadata": {},
   "source": [
    "above is not particularly useful as its  a multiple line plot for all \n",
    "columns"
   ]
  },
  {
   "cell_type": "code",
   "execution_count": 117,
   "id": "47b6e310",
   "metadata": {},
   "outputs": [],
   "source": [
    "# Exercise -\n",
    "# a) see if you can plot a single feature histogram\n",
    "# b) tidy up the boxplot view"
   ]
  },
  {
   "cell_type": "code",
   "execution_count": 118,
   "id": "f4d13961",
   "metadata": {},
   "outputs": [
    {
     "data": {
      "text/plain": [
       "array([[<AxesSubplot:title={'center':'marginal_adhesion'}>]], dtype=object)"
      ]
     },
     "execution_count": 118,
     "metadata": {},
     "output_type": "execute_result"
    },
    {
     "data": {
      "image/png": "[encoded data removed]",
      "text/plain": [
       "<Figure size 432x288 with 1 Axes>"
      ]
     },
     "metadata": {
      "needs_background": "light"
     },
     "output_type": "display_data"
    }
   ],
   "source": [
    "# a) see if you can plot a single feature histogram\n",
    "df.hist(column='marginal_adhesion')"
   ]
  },
  {
   "cell_type": "code",
   "execution_count": 119,
   "id": "f85fc3fb",
   "metadata": {},
   "outputs": [
    {
     "data": {
      "text/plain": [
       "(array([145.,  50., 108.,  80., 129.,  34.,  23.,  46.,  14.,  69.]),\n",
       " array([ 1. ,  1.9,  2.8,  3.7,  4.6,  5.5,  6.4,  7.3,  8.2,  9.1, 10. ]),\n",
       " <BarContainer object of 10 artists>)"
      ]
     },
     "execution_count": 119,
     "metadata": {},
     "output_type": "execute_result"
    },
    {
     "data": {
      "image/png": "[encoded data removed]",
      "text/plain": [
       "<Figure size 432x288 with 1 Axes>"
      ]
     },
     "metadata": {
      "needs_background": "light"
     },
     "output_type": "display_data"
    }
   ],
   "source": [
    "# alternative approach is using matplot\n",
    "import matplotlib.pyplot as plt\n",
    "\n",
    "plt.hist(df['clump_thickness'])"
   ]
  },
  {
   "cell_type": "code",
   "execution_count": 120,
   "id": "98a8d4d5",
   "metadata": {},
   "outputs": [
    {
     "data": {
      "text/plain": [
       "<AxesSubplot:>"
      ]
     },
     "execution_count": 120,
     "metadata": {},
     "output_type": "execute_result"
    },
    {
     "data": {
      "image/png": "[encoded data removed]",
      "text/plain": [
       "<Figure size 432x288 with 1 Axes>"
      ]
     },
     "metadata": {
      "needs_background": "light"
     },
     "output_type": "display_data"
    }
   ],
   "source": [
    "# b) tidy up the boxplot view\n",
    "df.drop([\"patient_id\"],axis = 1).boxplot(rot=90) # rot = rotation (i.e. flip text 90 degrees)"
   ]
  },
  {
   "cell_type": "markdown",
   "id": "74ded40f",
   "metadata": {},
   "source": [
    "#### Data Wrangling"
   ]
  },
  {
   "cell_type": "markdown",
   "id": "723e5a3a",
   "metadata": {},
   "source": [
    "Data Wrangling is an ACTIVE task, i.e. it changes our data in some way"
   ]
  },
  {
   "cell_type": "markdown",
   "id": "e20c51dc",
   "metadata": {},
   "source": [
    "##### Missing Values"
   ]
  },
  {
   "cell_type": "code",
   "execution_count": 121,
   "id": "8fca59b4",
   "metadata": {},
   "outputs": [
    {
     "data": {
      "text/plain": [
       "patient_id               0\n",
       "clump_thickness          1\n",
       "cell_size_uniformity     1\n",
       "cell_shape_uniformity    0\n",
       "marginal_adhesion        0\n",
       "single_ep_cell_size      0\n",
       "bare_nuclei              2\n",
       "bland_chromatin          4\n",
       "normal_nucleoli          1\n",
       "mitoses                  0\n",
       "class                    0\n",
       "doctor_name              0\n",
       "dtype: int64"
      ]
     },
     "execution_count": 121,
     "metadata": {},
     "output_type": "execute_result"
    }
   ],
   "source": [
    "# check no. of missing values\n",
    "df.isnull().sum() # use isnull() or isna()"
   ]
  },
  {
   "cell_type": "markdown",
   "id": "612966d9",
   "metadata": {},
   "source": [
    "the maximum number of missing values we have in one column is 4 (bland_chromatin), which is \n",
    "4 / 699 = 0.6% of the values in the column, so we can ASSUME (for now) that this is \n",
    "stastically insignificant and drop the values"
   ]
  },
  {
   "cell_type": "code",
   "execution_count": 122,
   "id": "b3d74e1b",
   "metadata": {},
   "outputs": [],
   "source": [
    "# Exercise - \n",
    "# a) implement a strategy to drop rows where we have missing values\n",
    "# b) check its been implemented correctly"
   ]
  },
  {
   "cell_type": "code",
   "execution_count": 123,
   "id": "b7ff59cb",
   "metadata": {},
   "outputs": [],
   "source": [
    "# a) implement a strategy to drop rows where we have missing values\n",
    "df = df.dropna(axis=0, how=\"any\") # axis = 0 means \"rows\"\n",
    "# NB we can also write as\n",
    "# df.dropna(axis=0, how=\"any\", inplace = True)"
   ]
  },
  {
   "cell_type": "code",
   "execution_count": 124,
   "id": "2a0d18bf",
   "metadata": {},
   "outputs": [
    {
     "data": {
      "text/plain": [
       "patient_id               0\n",
       "clump_thickness          0\n",
       "cell_size_uniformity     0\n",
       "cell_shape_uniformity    0\n",
       "marginal_adhesion        0\n",
       "single_ep_cell_size      0\n",
       "bare_nuclei              0\n",
       "bland_chromatin          0\n",
       "normal_nucleoli          0\n",
       "mitoses                  0\n",
       "class                    0\n",
       "doctor_name              0\n",
       "dtype: int64"
      ]
     },
     "execution_count": 124,
     "metadata": {},
     "output_type": "execute_result"
    }
   ],
   "source": [
    "# b) check its been implemented correctly\n",
    "# NB use the same function BEFORE and AFTER changing data\n",
    "df.isnull().sum() "
   ]
  },
  {
   "cell_type": "code",
   "execution_count": 126,
   "id": "8a35dd7d",
   "metadata": {},
   "outputs": [
    {
     "data": {
      "text/plain": [
       "(690, 12)"
      ]
     },
     "execution_count": 126,
     "metadata": {},
     "output_type": "execute_result"
    }
   ],
   "source": [
    "df.shape # also check NEW dimensions"
   ]
  },
  {
   "cell_type": "markdown",
   "id": "a2bd844a",
   "metadata": {},
   "source": [
    "##### Duplicates"
   ]
  },
  {
   "cell_type": "code",
   "execution_count": 35,
   "id": "33cb1385",
   "metadata": {},
   "outputs": [
    {
     "data": {
      "text/plain": [
       "patient_id               637\n",
       "clump_thickness           10\n",
       "cell_size_uniformity      10\n",
       "cell_shape_uniformity     10\n",
       "marginal_adhesion         10\n",
       "single_ep_cell_size       10\n",
       "bare_nuclei               11\n",
       "bland_chromatin           10\n",
       "normal_nucleoli           10\n",
       "mitoses                    9\n",
       "class                      2\n",
       "doctor_name                4\n",
       "dtype: int64"
      ]
     },
     "execution_count": 35,
     "metadata": {},
     "output_type": "execute_result"
    }
   ],
   "source": [
    "df.nunique() # number of unique values in each column"
   ]
  },
  {
   "cell_type": "markdown",
   "id": "1f0b9c32",
   "metadata": {},
   "source": [
    "we have 637 patient_ids and 690 rows so we have DUPLICATES"
   ]
  },
  {
   "cell_type": "code",
   "execution_count": 38,
   "id": "cd0579e9",
   "metadata": {
    "collapsed": true
   },
   "outputs": [
    {
     "data": {
      "text/plain": [
       "patient_id\n",
       "1182404    6\n",
       "1276091    5\n",
       "1198641    3\n",
       "1033078    2\n",
       "466906     2\n",
       "385103     2\n",
       "560680     2\n",
       "411453     2\n",
       "1299596    2\n",
       "654546     2\n",
       "1299924    2\n",
       "1061990    2\n",
       "1277792    2\n",
       "1105524    2\n",
       "1070935    2\n",
       "769612     2\n",
       "1168736    2\n",
       "1158247    2\n",
       "493452     2\n",
       "1293439    2\n",
       "dtype: int64"
      ]
     },
     "execution_count": 38,
     "metadata": {},
     "output_type": "execute_result"
    }
   ],
   "source": [
    "# summarise no. of visits for each patient\n",
    "repeatPatients = df.groupby(by=[\"patient_id\"]).size().sort_values(ascending = False)\n",
    "repeatPatients.head(20) # check it"
   ]
  },
  {
   "cell_type": "code",
   "execution_count": 39,
   "id": "b5119e96",
   "metadata": {},
   "outputs": [
    {
     "data": {
      "text/plain": [
       "(637,)"
      ]
     },
     "execution_count": 39,
     "metadata": {},
     "output_type": "execute_result"
    }
   ],
   "source": [
    "repeatPatients.shape"
   ]
  },
  {
   "cell_type": "code",
   "execution_count": 41,
   "id": "3ee95c53",
   "metadata": {},
   "outputs": [
    {
     "data": {
      "text/plain": [
       "patient_id\n",
       "1084139     1\n",
       "1084584     1\n",
       "1091262     1\n",
       "1096352     1\n",
       "13454352    1\n",
       "dtype: int64"
      ]
     },
     "execution_count": 41,
     "metadata": {},
     "output_type": "execute_result"
    }
   ],
   "source": [
    "repeatPatients.tail()"
   ]
  },
  {
   "cell_type": "code",
   "execution_count": null,
   "id": "926dad9b",
   "metadata": {},
   "outputs": [],
   "source": [
    "the variable also includes SINGLE visit patients"
   ]
  },
  {
   "cell_type": "markdown",
   "id": "5738b001",
   "metadata": {},
   "source": [
    "##### Filtering"
   ]
  },
  {
   "cell_type": "markdown",
   "id": "dad827ac",
   "metadata": {},
   "source": [
    "filtering in python is best done with [] or [[]]"
   ]
  },
  {
   "cell_type": "code",
   "execution_count": null,
   "id": "b3c9631c",
   "metadata": {},
   "outputs": [],
   "source": [
    "# Exercise - filter the patients who have attended more than once\n",
    "# i.e. filter OUT those who are SINGLE-visit patients"
   ]
  },
  {
   "cell_type": "code",
   "execution_count": 43,
   "id": "24003115",
   "metadata": {
    "collapsed": true
   },
   "outputs": [
    {
     "data": {
      "text/plain": [
       "patient_id\n",
       "1171710    2\n",
       "1240603    2\n",
       "704097     2\n",
       "1114570    2\n",
       "1354840    2\n",
       "dtype: int64"
      ]
     },
     "execution_count": 43,
     "metadata": {},
     "output_type": "execute_result"
    }
   ],
   "source": [
    "filteredPatients = repeatPatients[repeatPatients>=2] # we can use the variable name in the [] as above\n",
    "# is a groupby result, not a dataframe\n",
    "filteredPatients.tail() # check"
   ]
  },
  {
   "cell_type": "code",
   "execution_count": 44,
   "id": "c87eb9ba",
   "metadata": {},
   "outputs": [
    {
     "data": {
      "text/plain": [
       "(45,)"
      ]
     },
     "execution_count": 44,
     "metadata": {},
     "output_type": "execute_result"
    }
   ],
   "source": [
    "filteredPatients.shape # check dimensions"
   ]
  },
  {
   "cell_type": "markdown",
   "id": "05743827",
   "metadata": {},
   "source": [
    "##### Formatting"
   ]
  },
  {
   "cell_type": "code",
   "execution_count": 127,
   "id": "ea94b121",
   "metadata": {},
   "outputs": [
    {
     "data": {
      "text/plain": [
       "'1'"
      ]
     },
     "execution_count": 127,
     "metadata": {},
     "output_type": "execute_result"
    }
   ],
   "source": [
    "df.bare_nuclei.mode()[0] # the most frequent value in the bare_nuclei column"
   ]
  },
  {
   "cell_type": "code",
   "execution_count": 137,
   "id": "9a7a94c0",
   "metadata": {},
   "outputs": [
    {
     "data": {
      "text/plain": [
       "0    1\n",
       "dtype: object"
      ]
     },
     "execution_count": 137,
     "metadata": {},
     "output_type": "execute_result"
    }
   ],
   "source": [
    "df.bare_nuclei.mode()"
   ]
  },
  {
   "cell_type": "code",
   "execution_count": 128,
   "id": "0ad1a77d",
   "metadata": {},
   "outputs": [
    {
     "data": {
      "text/plain": [
       "(array([397., 130.,  30.,  19.,  27.,   9.,   7.,  16.,  30.,  25.]),\n",
       " array([ 0.,  1.,  2.,  3.,  4.,  5.,  6.,  7.,  8.,  9., 10.]),\n",
       " <BarContainer object of 10 artists>)"
      ]
     },
     "execution_count": 128,
     "metadata": {},
     "output_type": "execute_result"
    },
    {
     "data": {
      "image/png": "[encoded data removed]",
      "text/plain": [
       "<Figure size 432x288 with 1 Axes>"
      ]
     },
     "metadata": {
      "needs_background": "light"
     },
     "output_type": "display_data"
    }
   ],
   "source": [
    "plt.hist(df['bare_nuclei']) # visually show the most frequent value in the column"
   ]
  },
  {
   "cell_type": "code",
   "execution_count": 129,
   "id": "7477da0e",
   "metadata": {},
   "outputs": [
    {
     "data": {
      "text/plain": [
       "array(['1', '10', '2', '4', '3', '9', '7', '?', '5', '8', '6'],\n",
       "      dtype=object)"
      ]
     },
     "execution_count": 129,
     "metadata": {},
     "output_type": "execute_result"
    }
   ],
   "source": [
    "df.bare_nuclei.unique()"
   ]
  },
  {
   "cell_type": "code",
   "execution_count": 130,
   "id": "0302d3be",
   "metadata": {},
   "outputs": [
    {
     "name": "stderr",
     "output_type": "stream",
     "text": [
      "<ipython-input-130-c0da1216eabe>:1: SettingWithCopyWarning: \n",
      "A value is trying to be set on a copy of a slice from a DataFrame.\n",
      "Try using .loc[row_indexer,col_indexer] = value instead\n",
      "\n",
      "See the caveats in the documentation: https://pandas.pydata.org/pandas-docs/stable/user_guide/indexing.html#returning-a-view-versus-a-copy\n",
      "  df[\"bare_nuclei\"] = df[\"bare_nuclei\"].replace('?',df.bare_nuclei.mode()[0])\n"
     ]
    }
   ],
   "source": [
    "df[\"bare_nuclei\"] = df[\"bare_nuclei\"].replace('?',df.bare_nuclei.mode()[0])\n",
    "\n",
    "#OR\n",
    "#df[\"bare_nuclei\"] = df[\"bare_nuclei\"].apply(lambda x: x.replace('?',df.bare_nuclei.mode()[0]))"
   ]
  },
  {
   "cell_type": "code",
   "execution_count": 131,
   "id": "081ac118",
   "metadata": {},
   "outputs": [
    {
     "data": {
      "text/plain": [
       "array(['1', '10', '2', '4', '3', '9', '7', '5', '8', '6'], dtype=object)"
      ]
     },
     "execution_count": 131,
     "metadata": {},
     "output_type": "execute_result"
    }
   ],
   "source": [
    "df.bare_nuclei.unique()"
   ]
  },
  {
   "cell_type": "code",
   "execution_count": 132,
   "id": "111fc617",
   "metadata": {},
   "outputs": [
    {
     "data": {
      "text/plain": [
       "(array([413., 130.,  30.,  19.,  27.,   9.,   7.,  30.,  21.,   4.]),\n",
       " array([0. , 0.9, 1.8, 2.7, 3.6, 4.5, 5.4, 6.3, 7.2, 8.1, 9. ]),\n",
       " <BarContainer object of 10 artists>)"
      ]
     },
     "execution_count": 132,
     "metadata": {},
     "output_type": "execute_result"
    },
    {
     "data": {
      "image/png": "[encoded data removed]",
      "text/plain": [
       "<Figure size 432x288 with 1 Axes>"
      ]
     },
     "metadata": {
      "needs_background": "light"
     },
     "output_type": "display_data"
    }
   ],
   "source": [
    "plt.hist(df['bare_nuclei']) # visually show the most frequent value in the column"
   ]
  },
  {
   "cell_type": "markdown",
   "id": "659c30e8",
   "metadata": {},
   "source": [
    "?'s have been replaced"
   ]
  },
  {
   "cell_type": "markdown",
   "id": "a7c52095",
   "metadata": {},
   "source": [
    "#### Encoding"
   ]
  },
  {
   "cell_type": "markdown",
   "id": "23d8052c",
   "metadata": {},
   "source": [
    "we need to encode the categroical variables which are non-numeric, i.e. class and doctor"
   ]
  },
  {
   "cell_type": "code",
   "execution_count": 80,
   "id": "bf0adcdc",
   "metadata": {},
   "outputs": [
    {
     "data": {
      "text/html": [
       "<div>\n",
       "<style scoped>\n",
       "    .dataframe tbody tr th:only-of-type {\n",
       "        vertical-align: middle;\n",
       "    }\n",
       "\n",
       "    .dataframe tbody tr th {\n",
       "        vertical-align: top;\n",
       "    }\n",
       "\n",
       "    .dataframe thead th {\n",
       "        text-align: right;\n",
       "    }\n",
       "</style>\n",
       "<table border=\"1\" class=\"dataframe\">\n",
       "  <thead>\n",
       "    <tr style=\"text-align: right;\">\n",
       "      <th></th>\n",
       "      <th>Dr. Doe</th>\n",
       "      <th>Dr. Lee</th>\n",
       "      <th>Dr. Smith</th>\n",
       "      <th>Dr. Wong</th>\n",
       "    </tr>\n",
       "  </thead>\n",
       "  <tbody>\n",
       "    <tr>\n",
       "      <th>0</th>\n",
       "      <td>1</td>\n",
       "      <td>0</td>\n",
       "      <td>0</td>\n",
       "      <td>0</td>\n",
       "    </tr>\n",
       "    <tr>\n",
       "      <th>1</th>\n",
       "      <td>0</td>\n",
       "      <td>0</td>\n",
       "      <td>1</td>\n",
       "      <td>0</td>\n",
       "    </tr>\n",
       "    <tr>\n",
       "      <th>2</th>\n",
       "      <td>0</td>\n",
       "      <td>1</td>\n",
       "      <td>0</td>\n",
       "      <td>0</td>\n",
       "    </tr>\n",
       "    <tr>\n",
       "      <th>3</th>\n",
       "      <td>0</td>\n",
       "      <td>0</td>\n",
       "      <td>1</td>\n",
       "      <td>0</td>\n",
       "    </tr>\n",
       "    <tr>\n",
       "      <th>4</th>\n",
       "      <td>0</td>\n",
       "      <td>0</td>\n",
       "      <td>0</td>\n",
       "      <td>1</td>\n",
       "    </tr>\n",
       "    <tr>\n",
       "      <th>...</th>\n",
       "      <td>...</td>\n",
       "      <td>...</td>\n",
       "      <td>...</td>\n",
       "      <td>...</td>\n",
       "    </tr>\n",
       "    <tr>\n",
       "      <th>694</th>\n",
       "      <td>0</td>\n",
       "      <td>1</td>\n",
       "      <td>0</td>\n",
       "      <td>0</td>\n",
       "    </tr>\n",
       "    <tr>\n",
       "      <th>695</th>\n",
       "      <td>0</td>\n",
       "      <td>0</td>\n",
       "      <td>1</td>\n",
       "      <td>0</td>\n",
       "    </tr>\n",
       "    <tr>\n",
       "      <th>696</th>\n",
       "      <td>0</td>\n",
       "      <td>1</td>\n",
       "      <td>0</td>\n",
       "      <td>0</td>\n",
       "    </tr>\n",
       "    <tr>\n",
       "      <th>697</th>\n",
       "      <td>0</td>\n",
       "      <td>1</td>\n",
       "      <td>0</td>\n",
       "      <td>0</td>\n",
       "    </tr>\n",
       "    <tr>\n",
       "      <th>698</th>\n",
       "      <td>0</td>\n",
       "      <td>0</td>\n",
       "      <td>0</td>\n",
       "      <td>1</td>\n",
       "    </tr>\n",
       "  </tbody>\n",
       "</table>\n",
       "<p>690 rows × 4 columns</p>\n",
       "</div>"
      ],
      "text/plain": [
       "     Dr. Doe  Dr. Lee  Dr. Smith  Dr. Wong\n",
       "0          1        0          0         0\n",
       "1          0        0          1         0\n",
       "2          0        1          0         0\n",
       "3          0        0          1         0\n",
       "4          0        0          0         1\n",
       "..       ...      ...        ...       ...\n",
       "694        0        1          0         0\n",
       "695        0        0          1         0\n",
       "696        0        1          0         0\n",
       "697        0        1          0         0\n",
       "698        0        0          0         1\n",
       "\n",
       "[690 rows x 4 columns]"
      ]
     },
     "execution_count": 80,
     "metadata": {},
     "output_type": "execute_result"
    }
   ],
   "source": [
    "# one hot encoding\n",
    "pd.get_dummies(df[\"doctor_name\"])"
   ]
  },
  {
   "cell_type": "code",
   "execution_count": null,
   "id": "fea0b5fa",
   "metadata": {},
   "outputs": [],
   "source": [
    "# Exercise:\n",
    "# a) join the above encoded doctor dataframe to the original date\n",
    "# b) remove the \"doctor_name\" column\n",
    "# c) check we have implemented this correctly"
   ]
  },
  {
   "cell_type": "code",
   "execution_count": 91,
   "id": "a9f7c02f",
   "metadata": {},
   "outputs": [
    {
     "data": {
      "text/html": [
       "<div>\n",
       "<style scoped>\n",
       "    .dataframe tbody tr th:only-of-type {\n",
       "        vertical-align: middle;\n",
       "    }\n",
       "\n",
       "    .dataframe tbody tr th {\n",
       "        vertical-align: top;\n",
       "    }\n",
       "\n",
       "    .dataframe thead th {\n",
       "        text-align: right;\n",
       "    }\n",
       "</style>\n",
       "<table border=\"1\" class=\"dataframe\">\n",
       "  <thead>\n",
       "    <tr style=\"text-align: right;\">\n",
       "      <th></th>\n",
       "      <th>patient_id</th>\n",
       "      <th>clump_thickness</th>\n",
       "      <th>cell_size_uniformity</th>\n",
       "      <th>cell_shape_uniformity</th>\n",
       "      <th>marginal_adhesion</th>\n",
       "      <th>single_ep_cell_size</th>\n",
       "      <th>bare_nuclei</th>\n",
       "      <th>bland_chromatin</th>\n",
       "      <th>normal_nucleoli</th>\n",
       "      <th>mitoses</th>\n",
       "      <th>class</th>\n",
       "      <th>Dr. Doe</th>\n",
       "      <th>Dr. Lee</th>\n",
       "      <th>Dr. Smith</th>\n",
       "      <th>Dr. Wong</th>\n",
       "    </tr>\n",
       "  </thead>\n",
       "  <tbody>\n",
       "    <tr>\n",
       "      <th>0</th>\n",
       "      <td>1000025</td>\n",
       "      <td>5.0</td>\n",
       "      <td>1.0</td>\n",
       "      <td>1</td>\n",
       "      <td>1</td>\n",
       "      <td>2</td>\n",
       "      <td>1</td>\n",
       "      <td>3.0</td>\n",
       "      <td>1.0</td>\n",
       "      <td>1</td>\n",
       "      <td>benign</td>\n",
       "      <td>1</td>\n",
       "      <td>0</td>\n",
       "      <td>0</td>\n",
       "      <td>0</td>\n",
       "    </tr>\n",
       "    <tr>\n",
       "      <th>1</th>\n",
       "      <td>1002945</td>\n",
       "      <td>5.0</td>\n",
       "      <td>4.0</td>\n",
       "      <td>4</td>\n",
       "      <td>5</td>\n",
       "      <td>7</td>\n",
       "      <td>10</td>\n",
       "      <td>3.0</td>\n",
       "      <td>2.0</td>\n",
       "      <td>1</td>\n",
       "      <td>benign</td>\n",
       "      <td>0</td>\n",
       "      <td>0</td>\n",
       "      <td>1</td>\n",
       "      <td>0</td>\n",
       "    </tr>\n",
       "    <tr>\n",
       "      <th>2</th>\n",
       "      <td>1015425</td>\n",
       "      <td>3.0</td>\n",
       "      <td>1.0</td>\n",
       "      <td>1</td>\n",
       "      <td>1</td>\n",
       "      <td>2</td>\n",
       "      <td>2</td>\n",
       "      <td>3.0</td>\n",
       "      <td>1.0</td>\n",
       "      <td>1</td>\n",
       "      <td>benign</td>\n",
       "      <td>0</td>\n",
       "      <td>1</td>\n",
       "      <td>0</td>\n",
       "      <td>0</td>\n",
       "    </tr>\n",
       "    <tr>\n",
       "      <th>3</th>\n",
       "      <td>1016277</td>\n",
       "      <td>6.0</td>\n",
       "      <td>8.0</td>\n",
       "      <td>8</td>\n",
       "      <td>1</td>\n",
       "      <td>3</td>\n",
       "      <td>4</td>\n",
       "      <td>3.0</td>\n",
       "      <td>7.0</td>\n",
       "      <td>1</td>\n",
       "      <td>benign</td>\n",
       "      <td>0</td>\n",
       "      <td>0</td>\n",
       "      <td>1</td>\n",
       "      <td>0</td>\n",
       "    </tr>\n",
       "    <tr>\n",
       "      <th>4</th>\n",
       "      <td>1017023</td>\n",
       "      <td>4.0</td>\n",
       "      <td>1.0</td>\n",
       "      <td>1</td>\n",
       "      <td>3</td>\n",
       "      <td>2</td>\n",
       "      <td>1</td>\n",
       "      <td>3.0</td>\n",
       "      <td>1.0</td>\n",
       "      <td>1</td>\n",
       "      <td>benign</td>\n",
       "      <td>0</td>\n",
       "      <td>0</td>\n",
       "      <td>0</td>\n",
       "      <td>1</td>\n",
       "    </tr>\n",
       "  </tbody>\n",
       "</table>\n",
       "</div>"
      ],
      "text/plain": [
       "   patient_id  clump_thickness  cell_size_uniformity  cell_shape_uniformity  \\\n",
       "0     1000025              5.0                   1.0                      1   \n",
       "1     1002945              5.0                   4.0                      4   \n",
       "2     1015425              3.0                   1.0                      1   \n",
       "3     1016277              6.0                   8.0                      8   \n",
       "4     1017023              4.0                   1.0                      1   \n",
       "\n",
       "   marginal_adhesion  single_ep_cell_size bare_nuclei  bland_chromatin  \\\n",
       "0                  1                    2           1              3.0   \n",
       "1                  5                    7          10              3.0   \n",
       "2                  1                    2           2              3.0   \n",
       "3                  1                    3           4              3.0   \n",
       "4                  3                    2           1              3.0   \n",
       "\n",
       "   normal_nucleoli  mitoses   class  Dr. Doe  Dr. Lee  Dr. Smith  Dr. Wong  \n",
       "0              1.0        1  benign        1        0          0         0  \n",
       "1              2.0        1  benign        0        0          1         0  \n",
       "2              1.0        1  benign        0        1          0         0  \n",
       "3              7.0        1  benign        0        0          1         0  \n",
       "4              1.0        1  benign        0        0          0         1  "
      ]
     },
     "execution_count": 91,
     "metadata": {},
     "output_type": "execute_result"
    }
   ],
   "source": [
    "# a) join the above ecncoded doctor dataframe to the original date\n",
    "dfTransf = pd.concat([df, pd.get_dummies(df[\"doctor_name\"])],\n",
    "                    axis = 1).drop(\"doctor_name\", axis = 1)\n",
    "dfTransf.head()"
   ]
  },
  {
   "cell_type": "code",
   "execution_count": 92,
   "id": "bcf6089a",
   "metadata": {},
   "outputs": [
    {
     "data": {
      "text/plain": [
       "(690, 15)"
      ]
     },
     "execution_count": 92,
     "metadata": {},
     "output_type": "execute_result"
    }
   ],
   "source": [
    "# final check - rows and columns of new dataframe\n",
    "dfTransf.shape"
   ]
  },
  {
   "cell_type": "markdown",
   "id": "07e176b9",
   "metadata": {},
   "source": [
    "690 rows which is the original minus the missing values we removed\n",
    "15 columns which is 12 + 4 one hot encoded column - the orginal\n",
    "doctor_name column which we dropped"
   ]
  },
  {
   "cell_type": "code",
   "execution_count": null,
   "id": "9d69eb80",
   "metadata": {},
   "outputs": [],
   "source": [
    "# Exercsise\n",
    "# a) drop the patient_id column\n",
    "# b) encode the class column"
   ]
  }
 ],
 "metadata": {
  "kernelspec": {
   "display_name": "Python 3",
   "language": "python",
   "name": "python3"
  },
  "language_info": {
   "codemirror_mode": {
    "name": "ipython",
    "version": 3
   },
   "file_extension": ".py",
   "mimetype": "text/x-python",
   "name": "python",
   "nbconvert_exporter": "python",
   "pygments_lexer": "ipython3",
   "version": "3.8.8"
  }
 },
 "nbformat": 4,
 "nbformat_minor": 5
}
